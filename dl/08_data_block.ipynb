{
 "cells": [
  {
   "cell_type": "markdown",
   "metadata": {},
   "source": [
    "# Data block API foundations"
   ]
  },
  {
   "cell_type": "code",
   "execution_count": 1,
   "metadata": {},
   "outputs": [],
   "source": [
    "%load_ext autoreload\n",
    "%autoreload 2\n",
    "\n",
    "%matplotlib inline\n",
    "%config InlineBackend.figure_format='retina'"
   ]
  },
  {
   "cell_type": "code",
   "execution_count": 2,
   "metadata": {},
   "outputs": [],
   "source": [
    "#export\n",
    "from exp.nb_07a import *"
   ]
  },
  {
   "cell_type": "markdown",
   "metadata": {},
   "source": [
    "## Image ItemList\n",
    "\n",
    "We want to read data from disk as we use it and not load everything at once"
   ]
  },
  {
   "cell_type": "markdown",
   "metadata": {},
   "source": [
    "### Get images"
   ]
  },
  {
   "cell_type": "code",
   "execution_count": 3,
   "metadata": {},
   "outputs": [],
   "source": [
    "#export\n",
    "S3 = 'https://s3.amazonaws.com/fast-ai-'\n",
    "S3_IMAGE = f'{S3}imageclas/'\n",
    "imagenette_160 = f'{S3_IMAGE}imagenette-160'\n",
    "\n",
    "import tarfile\n",
    "from exp.nb_01 import _url2tgz\n",
    "\n",
    "def url2path(url, data=True, ext='.tgz'):\n",
    "    \"Change `url` to a path.\"\n",
    "    name = url2name(url)\n",
    "    if data:\n",
    "        return datapath4file(name, ext=ext)\n",
    "\n",
    "def untar_data(url:str, fname=None, dest=None, data=True, force_download=False):\n",
    "    \"Download `url` to `fname` if `dest` doesn't exist, and un-tgz to folder `dest`.\"\n",
    "    if dest is None:\n",
    "        dest = url2path(url, data)\n",
    "    else:\n",
    "        dest = Path(dest)/url2name(url)\n",
    "    fname = Path(_url2tgz(url))\n",
    "    if not dest.exists():\n",
    "        fname = download_data(url, fname=fname)\n",
    "        tarfile.open(fname, 'r:gz').extractall(dest.parent)\n",
    "    return dest"
   ]
  },
  {
   "cell_type": "code",
   "execution_count": 4,
   "metadata": {},
   "outputs": [
    {
     "data": {
      "text/plain": [
       "PosixPath('/home/ubuntu/learnai/dl/data/imagenette-160')"
      ]
     },
     "execution_count": 4,
     "metadata": {},
     "output_type": "execute_result"
    }
   ],
   "source": [
    "path = untar_data(imagenette_160)\n",
    "path"
   ]
  },
  {
   "cell_type": "code",
   "execution_count": 5,
   "metadata": {},
   "outputs": [],
   "source": [
    "#export\n",
    "import PIL, os, mimetypes\n",
    "Path.ls = lambda x: list(x.iterdir())"
   ]
  },
  {
   "cell_type": "code",
   "execution_count": 6,
   "metadata": {},
   "outputs": [
    {
     "data": {
      "text/plain": [
       "[PosixPath('/home/ubuntu/learnai/dl/data/imagenette-160/val'),\n",
       " PosixPath('/home/ubuntu/learnai/dl/data/imagenette-160/train')]"
      ]
     },
     "execution_count": 6,
     "metadata": {},
     "output_type": "execute_result"
    }
   ],
   "source": [
    "path.ls()"
   ]
  },
  {
   "cell_type": "code",
   "execution_count": 7,
   "metadata": {},
   "outputs": [
    {
     "data": {
      "text/plain": [
       "[PosixPath('/home/ubuntu/learnai/dl/data/imagenette-160/val/n03888257'),\n",
       " PosixPath('/home/ubuntu/learnai/dl/data/imagenette-160/val/n03000684'),\n",
       " PosixPath('/home/ubuntu/learnai/dl/data/imagenette-160/val/n03028079'),\n",
       " PosixPath('/home/ubuntu/learnai/dl/data/imagenette-160/val/n02102040'),\n",
       " PosixPath('/home/ubuntu/learnai/dl/data/imagenette-160/val/n03417042'),\n",
       " PosixPath('/home/ubuntu/learnai/dl/data/imagenette-160/val/n03394916'),\n",
       " PosixPath('/home/ubuntu/learnai/dl/data/imagenette-160/val/n03445777'),\n",
       " PosixPath('/home/ubuntu/learnai/dl/data/imagenette-160/val/n03425413'),\n",
       " PosixPath('/home/ubuntu/learnai/dl/data/imagenette-160/val/n02979186'),\n",
       " PosixPath('/home/ubuntu/learnai/dl/data/imagenette-160/val/n01440764')]"
      ]
     },
     "execution_count": 7,
     "metadata": {},
     "output_type": "execute_result"
    }
   ],
   "source": [
    "(path/'val').ls()"
   ]
  },
  {
   "cell_type": "code",
   "execution_count": 8,
   "metadata": {},
   "outputs": [],
   "source": [
    "path_tench = path/'val'/'n01440764'"
   ]
  },
  {
   "cell_type": "code",
   "execution_count": 9,
   "metadata": {},
   "outputs": [
    {
     "data": {
      "text/plain": [
       "PosixPath('/home/ubuntu/learnai/dl/data/imagenette-160/val/n01440764/ILSVRC2012_val_00024235.JPEG')"
      ]
     },
     "execution_count": 9,
     "metadata": {},
     "output_type": "execute_result"
    }
   ],
   "source": [
    "img_fn = path_tench.ls()[1]\n",
    "img_fn"
   ]
  },
  {
   "cell_type": "code",
   "execution_count": 10,
   "metadata": {},
   "outputs": [
    {
     "data": {
      "image/png": "[encoded data removed]",
      "text/plain": [
       "<PIL.JpegImagePlugin.JpegImageFile image mode=RGB size=213x160 at 0x7F1A5C5BFBD0>"
      ]
     },
     "execution_count": 10,
     "metadata": {},
     "output_type": "execute_result"
    }
   ],
   "source": [
    "img = PIL.Image.open(img_fn)\n",
    "img"
   ]
  },
  {
   "cell_type": "code",
   "execution_count": 11,
   "metadata": {},
   "outputs": [],
   "source": [
    "import numpy\n",
    "imga = numpy.array(img)"
   ]
  },
  {
   "cell_type": "code",
   "execution_count": 12,
   "metadata": {},
   "outputs": [
    {
     "data": {
      "text/plain": [
       "(160, 213, 3)"
      ]
     },
     "execution_count": 12,
     "metadata": {},
     "output_type": "execute_result"
    }
   ],
   "source": [
    "imga.shape"
   ]
  },
  {
   "cell_type": "code",
   "execution_count": 13,
   "metadata": {},
   "outputs": [
    {
     "data": {
      "text/plain": [
       "array([[0, 0, 0, 0, 0, 0, 0, 0, 0, 0],\n",
       "       [0, 0, 0, 0, 0, 0, 0, 0, 0, 0],\n",
       "       [0, 0, 0, 0, 0, 0, 0, 0, 0, 0],\n",
       "       [0, 0, 0, 0, 0, 0, 0, 0, 0, 0],\n",
       "       [0, 0, 0, 0, 0, 0, 0, 0, 0, 0],\n",
       "       [0, 0, 0, 0, 0, 0, 0, 0, 0, 0],\n",
       "       [0, 0, 0, 0, 0, 0, 0, 0, 0, 0],\n",
       "       [0, 0, 0, 0, 0, 0, 0, 0, 0, 0],\n",
       "       [0, 0, 0, 0, 0, 0, 0, 0, 0, 0],\n",
       "       [0, 0, 0, 0, 0, 0, 0, 0, 0, 0]], dtype=uint8)"
      ]
     },
     "execution_count": 13,
     "metadata": {},
     "output_type": "execute_result"
    }
   ],
   "source": [
    "imga[:10, :10, 0]"
   ]
  },
  {
   "cell_type": "code",
   "execution_count": 14,
   "metadata": {},
   "outputs": [],
   "source": [
    "#export\n",
    "image_extensions = set(k for k,v in mimetypes.types_map.items() if v.startswith('image/'))"
   ]
  },
  {
   "cell_type": "code",
   "execution_count": 15,
   "metadata": {},
   "outputs": [
    {
     "data": {
      "text/plain": [
       "'.rgb .xpm .bmp .svg .jpe .ief .xbm .ico .ras .pbm .ppm .pnm .tif .gif .png .jpg .tiff .pgm .jpeg .xwd'"
      ]
     },
     "execution_count": 15,
     "metadata": {},
     "output_type": "execute_result"
    }
   ],
   "source": [
    "' '.join(image_extensions)"
   ]
  },
  {
   "cell_type": "code",
   "execution_count": 16,
   "metadata": {},
   "outputs": [],
   "source": [
    "#export\n",
    "def setify(o):\n",
    "    return o if isinstance(o, set) else set(listify(o))"
   ]
  },
  {
   "cell_type": "code",
   "execution_count": 17,
   "metadata": {},
   "outputs": [],
   "source": [
    "test_eq(setify('aa'), {'a'})\n",
    "test_eq(setify(['aa',1]), {'aa', 1})\n",
    "test_eq(setify(None), set())\n",
    "test_eq(setify(1), {1})\n",
    "test_eq(setify({1}), {1})"
   ]
  },
  {
   "cell_type": "code",
   "execution_count": 18,
   "metadata": {},
   "outputs": [],
   "source": [
    "#export\n",
    "def _get_files(p, fs, extensions=None):\n",
    "    p = Path(p)\n",
    "    res = [p/f for f in fs if not f.startswith('.')\n",
    "          and ((not extensions) or f\".{f.split('.')[-1].lower()}\" in extensions)]\n",
    "    return res"
   ]
  },
  {
   "cell_type": "code",
   "execution_count": 19,
   "metadata": {},
   "outputs": [
    {
     "data": {
      "text/plain": [
       "[PosixPath('/home/ubuntu/learnai/dl/data/imagenette-160/ILSVRC2012_val_00031094.JPEG'),\n",
       " PosixPath('/home/ubuntu/learnai/dl/data/imagenette-160/ILSVRC2012_val_00024235.JPEG'),\n",
       " PosixPath('/home/ubuntu/learnai/dl/data/imagenette-160/ILSVRC2012_val_00028158.JPEG')]"
      ]
     },
     "execution_count": 19,
     "metadata": {},
     "output_type": "execute_result"
    }
   ],
   "source": [
    "t = [o.name for o in os.scandir(path_tench)]\n",
    "t = _get_files(path, t, extensions=image_extensions)\n",
    "t[:3]"
   ]
  },
  {
   "cell_type": "code",
   "execution_count": 20,
   "metadata": {},
   "outputs": [],
   "source": [
    "#export\n",
    "def get_files(path, extensions=None, recurse=False, include=None):\n",
    "    path = Path(path)\n",
    "    extensions = setify(extensions)\n",
    "    extensions = {e.lower() for e in extensions}\n",
    "    if recurse:\n",
    "        res = []\n",
    "        for p, d, f in os.walk(path): #returns (dirpath, dirnames, filenames)\n",
    "            if include is not None:\n",
    "                d[:] = [o for o in d if o in include]\n",
    "            else:\n",
    "                d[:] = [o for o in d if not o.startswith('.')]\n",
    "            res += _get_files(p, f, extensions)\n",
    "        return res\n",
    "    else:\n",
    "        f = [o.name for o in os.scandir(path) if o.is_file()]\n",
    "        return _get_files(path, f, extensions)"
   ]
  },
  {
   "cell_type": "code",
   "execution_count": 21,
   "metadata": {},
   "outputs": [],
   "source": [
    "#export\n",
    "def get_files(path, extensions=None, recurse=False, include=None):\n",
    "    path = Path(path)\n",
    "    extensions = setify(extensions)\n",
    "    extensions = {e.lower() for e in extensions}\n",
    "    if recurse:\n",
    "        res = []\n",
    "        for i, (p, d, f) in enumerate(os.walk(path)): #returns (dirpath, dirnames, filenames)\n",
    "            if include is not None and i==0:\n",
    "                d[:] = [o for o in d if o in include]\n",
    "            else:\n",
    "                d[:] = [o for o in d if not o.startswith('.')]\n",
    "            res += _get_files(p, f, extensions)\n",
    "        return res\n",
    "    else:\n",
    "        f = [o.name for o in os.scandir(path) if o.is_file()]\n",
    "        return _get_files(path, f, extensions)"
   ]
  },
  {
   "cell_type": "code",
   "execution_count": 22,
   "metadata": {},
   "outputs": [
    {
     "data": {
      "text/plain": [
       "[PosixPath('/home/ubuntu/learnai/dl/data/imagenette-160/val/n01440764/ILSVRC2012_val_00031094.JPEG'),\n",
       " PosixPath('/home/ubuntu/learnai/dl/data/imagenette-160/val/n01440764/ILSVRC2012_val_00024235.JPEG'),\n",
       " PosixPath('/home/ubuntu/learnai/dl/data/imagenette-160/val/n01440764/ILSVRC2012_val_00028158.JPEG')]"
      ]
     },
     "execution_count": 22,
     "metadata": {},
     "output_type": "execute_result"
    }
   ],
   "source": [
    "get_files(path_tench, image_extensions)[:3]"
   ]
  },
  {
   "cell_type": "code",
   "execution_count": 23,
   "metadata": {},
   "outputs": [
    {
     "data": {
      "text/plain": [
       "[PosixPath('/home/ubuntu/learnai/dl/data/imagenette-160/val/n03888257/ILSVRC2012_val_00009873.JPEG'),\n",
       " PosixPath('/home/ubuntu/learnai/dl/data/imagenette-160/val/n03888257/ILSVRC2012_val_00015787.JPEG'),\n",
       " PosixPath('/home/ubuntu/learnai/dl/data/imagenette-160/val/n03888257/ILSVRC2012_val_00022638.JPEG')]"
      ]
     },
     "execution_count": 23,
     "metadata": {},
     "output_type": "execute_result"
    }
   ],
   "source": [
    "get_files(path, image_extensions, recurse=True)[:3]"
   ]
  },
  {
   "cell_type": "code",
   "execution_count": 24,
   "metadata": {},
   "outputs": [
    {
     "data": {
      "text/plain": [
       "13394"
      ]
     },
     "execution_count": 24,
     "metadata": {},
     "output_type": "execute_result"
    }
   ],
   "source": [
    "all_fns = get_files(path, image_extensions, recurse=True)\n",
    "len(all_fns)"
   ]
  },
  {
   "cell_type": "code",
   "execution_count": 25,
   "metadata": {},
   "outputs": [
    {
     "name": "stdout",
     "output_type": "stream",
     "text": [
      "74.4 ms ± 558 µs per loop (mean ± std. dev. of 7 runs, 10 loops each)\n"
     ]
    }
   ],
   "source": [
    "%timeit -n 10 get_files(path, image_extensions, recurse=True)"
   ]
  },
  {
   "cell_type": "markdown",
   "metadata": {},
   "source": [
    "## Prepare for modeling"
   ]
  },
  {
   "cell_type": "code",
   "execution_count": 26,
   "metadata": {},
   "outputs": [],
   "source": [
    "#export\n",
    "def compose(x, funcs, *args, order_key='_order', **kwargs):\n",
    "    key = lambda o: getattr(o, order_key, 0)\n",
    "    for f in sorted(listify(funcs), key=key):\n",
    "        x = f(x, **kwargs)\n",
    "    return x\n",
    "\n",
    "class ItemList(ListContainer):\n",
    "    def __init__(self, items, path='.', tfms=None):\n",
    "        super().__init__(items)\n",
    "        self.path, self.tfms = Path(path), tfms\n",
    "        \n",
    "    def __repr__(self):\n",
    "        return f'{super().__repr__()}\\nPath: {self.path}'\n",
    "    \n",
    "    def new(self, items, cls=None):\n",
    "        if cls is None:\n",
    "            cls = self.__class__\n",
    "        return cls(items, self.path, tfms = self.tfms)\n",
    "    \n",
    "    def get(self, i):\n",
    "        return i\n",
    "    \n",
    "    def _get(self, i):\n",
    "        return compose(self.get(i), self.tfms)\n",
    "    \n",
    "    def __getitem__(self, idx):\n",
    "        res = super().__getitem__(idx)\n",
    "        if isinstance(res, list):\n",
    "            return [self._get(o) for o in res]\n",
    "        return self._get(res)\n",
    "    \n",
    "class ImageList(ItemList):\n",
    "    @classmethod\n",
    "    def from_files(cls, path, extensions=None, recurse=True, include=None, **kwargs):\n",
    "        if extensions is None:\n",
    "            extensions = image_extensions\n",
    "        return cls(get_files(path, extensions, recurse=recurse, include=include), path, **kwargs)\n",
    "    \n",
    "    def get(self, fn):\n",
    "        return PIL.Image.open(fn)"
   ]
  },
  {
   "cell_type": "code",
   "execution_count": 27,
   "metadata": {},
   "outputs": [],
   "source": [
    "#export\n",
    "class Transform():\n",
    "    _order = 0\n",
    "    \n",
    "class MakeRGB(Transform):\n",
    "    def __call__(self, item):\n",
    "        return item.convert('RGB')\n",
    "\n",
    "def make_rgb(item):\n",
    "    return item.convert('RGB')"
   ]
  },
  {
   "cell_type": "code",
   "execution_count": 28,
   "metadata": {},
   "outputs": [],
   "source": [
    "il = ImageList.from_files(path, tfms=make_rgb)"
   ]
  },
  {
   "cell_type": "code",
   "execution_count": 29,
   "metadata": {},
   "outputs": [
    {
     "data": {
      "text/plain": [
       "ImageList(13394 items)\n",
       "[PosixPath('/home/ubuntu/learnai/dl/data/imagenette-160/val/n03888257/ILSVRC2012_val_00009873.JPEG'), PosixPath('/home/ubuntu/learnai/dl/data/imagenette-160/val/n03888257/ILSVRC2012_val_00015787.JPEG'), PosixPath('/home/ubuntu/learnai/dl/data/imagenette-160/val/n03888257/ILSVRC2012_val_00022638.JPEG'), PosixPath('/home/ubuntu/learnai/dl/data/imagenette-160/val/n03888257/ILSVRC2012_val_00002665.JPEG'), PosixPath('/home/ubuntu/learnai/dl/data/imagenette-160/val/n03888257/ILSVRC2012_val_00044850.JPEG'), PosixPath('/home/ubuntu/learnai/dl/data/imagenette-160/val/n03888257/ILSVRC2012_val_00009559.JPEG'), PosixPath('/home/ubuntu/learnai/dl/data/imagenette-160/val/n03888257/ILSVRC2012_val_00009269.JPEG'), PosixPath('/home/ubuntu/learnai/dl/data/imagenette-160/val/n03888257/ILSVRC2012_val_00039045.JPEG'), PosixPath('/home/ubuntu/learnai/dl/data/imagenette-160/val/n03888257/ILSVRC2012_val_00006561.JPEG'), PosixPath('/home/ubuntu/learnai/dl/data/imagenette-160/val/n03888257/ILSVRC2012_val_00031268.JPEG')...]\n",
       "Path: /home/ubuntu/learnai/dl/data/imagenette-160"
      ]
     },
     "execution_count": 29,
     "metadata": {},
     "output_type": "execute_result"
    }
   ],
   "source": [
    "il"
   ]
  },
  {
   "cell_type": "code",
   "execution_count": 30,
   "metadata": {},
   "outputs": [
    {
     "data": {
      "image/png": "[encoded data removed]",
      "text/plain": [
       "<PIL.Image.Image image mode=RGB size=160x162 at 0x7F1A5C525E90>"
      ]
     },
     "execution_count": 30,
     "metadata": {},
     "output_type": "execute_result"
    }
   ],
   "source": [
    "img = il[0]; img"
   ]
  },
  {
   "cell_type": "code",
   "execution_count": 31,
   "metadata": {},
   "outputs": [
    {
     "data": {
      "text/plain": [
       "[<PIL.Image.Image image mode=RGB size=160x162 at 0x7F1A5C537F10>]"
      ]
     },
     "execution_count": 31,
     "metadata": {},
     "output_type": "execute_result"
    }
   ],
   "source": [
    "il[:1]"
   ]
  },
  {
   "cell_type": "markdown",
   "metadata": {},
   "source": [
    "## Split validation set"
   ]
  },
  {
   "cell_type": "code",
   "execution_count": 32,
   "metadata": {},
   "outputs": [
    {
     "data": {
      "text/plain": [
       "PosixPath('/home/ubuntu/learnai/dl/data/imagenette-160/val/n03888257/ILSVRC2012_val_00009873.JPEG')"
      ]
     },
     "execution_count": 32,
     "metadata": {},
     "output_type": "execute_result"
    }
   ],
   "source": [
    "fn = il.items[0]; fn"
   ]
  },
  {
   "cell_type": "code",
   "execution_count": 33,
   "metadata": {},
   "outputs": [
    {
     "data": {
      "text/plain": [
       "'val'"
      ]
     },
     "execution_count": 33,
     "metadata": {},
     "output_type": "execute_result"
    }
   ],
   "source": [
    "fn.parent.parent.name"
   ]
  },
  {
   "cell_type": "code",
   "execution_count": 34,
   "metadata": {},
   "outputs": [],
   "source": [
    "#export\n",
    "def grandparent_splitter(fn, valid_name='valid', train_name='train'):\n",
    "    gp = fn.parent.parent.name\n",
    "    if gp==valid_name:\n",
    "        return True\n",
    "    elif gp==train_name:\n",
    "        return False\n",
    "    else:\n",
    "        return None\n",
    "    \n",
    "def split_by_func(ds, f):\n",
    "    items = ds.items\n",
    "    mask = [f(o) for o in items]\n",
    "    # `None` values will be filtered out\n",
    "    train = [o for o,m in zip(items, mask) if m==False]\n",
    "    valid = [o for o,m in zip(items, mask) if m==True]\n",
    "    return train, valid"
   ]
  },
  {
   "cell_type": "code",
   "execution_count": 35,
   "metadata": {},
   "outputs": [],
   "source": [
    "splitter = partial(grandparent_splitter, valid_name='val')"
   ]
  },
  {
   "cell_type": "code",
   "execution_count": 36,
   "metadata": {},
   "outputs": [
    {
     "name": "stdout",
     "output_type": "stream",
     "text": [
      "CPU times: user 40 ms, sys: 0 ns, total: 40 ms\n",
      "Wall time: 39.7 ms\n"
     ]
    }
   ],
   "source": [
    "%time train, valid = split_by_func(il, splitter)"
   ]
  },
  {
   "cell_type": "code",
   "execution_count": 37,
   "metadata": {},
   "outputs": [
    {
     "data": {
      "text/plain": [
       "(12894, 500)"
      ]
     },
     "execution_count": 37,
     "metadata": {},
     "output_type": "execute_result"
    }
   ],
   "source": [
    "len(train), len(valid)"
   ]
  },
  {
   "cell_type": "code",
   "execution_count": 38,
   "metadata": {},
   "outputs": [],
   "source": [
    "#export\n",
    "class SplitData():\n",
    "    def __init__(self, train, valid):\n",
    "        self.train, self.valid = train, valid\n",
    "        \n",
    "    def __getattr__(self, k):\n",
    "        return getattr(self.train, k)\n",
    "    \n",
    "    @classmethod\n",
    "    def split_by_func(cls, il, f):\n",
    "        lists = map(il.new, split_by_func(il, f))\n",
    "        return cls(*lists)\n",
    "    \n",
    "    def __repr__(self):\n",
    "        return f'{self.__class__.__name__}\\nTrain: {self.train}\\nValid: {self.valid}\\n'"
   ]
  },
  {
   "cell_type": "code",
   "execution_count": 39,
   "metadata": {},
   "outputs": [
    {
     "data": {
      "text/plain": [
       "SplitData\n",
       "Train: ImageList(12894 items)\n",
       "[PosixPath('/home/ubuntu/learnai/dl/data/imagenette-160/train/n03888257/n03888257_14974.JPEG'), PosixPath('/home/ubuntu/learnai/dl/data/imagenette-160/train/n03888257/n03888257_6369.JPEG'), PosixPath('/home/ubuntu/learnai/dl/data/imagenette-160/train/n03888257/n03888257_21399.JPEG'), PosixPath('/home/ubuntu/learnai/dl/data/imagenette-160/train/n03888257/n03888257_34374.JPEG'), PosixPath('/home/ubuntu/learnai/dl/data/imagenette-160/train/n03888257/n03888257_10564.JPEG'), PosixPath('/home/ubuntu/learnai/dl/data/imagenette-160/train/n03888257/n03888257_36971.JPEG'), PosixPath('/home/ubuntu/learnai/dl/data/imagenette-160/train/n03888257/n03888257_10844.JPEG'), PosixPath('/home/ubuntu/learnai/dl/data/imagenette-160/train/n03888257/n03888257_50367.JPEG'), PosixPath('/home/ubuntu/learnai/dl/data/imagenette-160/train/n03888257/n03888257_65206.JPEG'), PosixPath('/home/ubuntu/learnai/dl/data/imagenette-160/train/n03888257/n03888257_46572.JPEG')...]\n",
       "Path: /home/ubuntu/learnai/dl/data/imagenette-160\n",
       "Valid: ImageList(500 items)\n",
       "[PosixPath('/home/ubuntu/learnai/dl/data/imagenette-160/val/n03888257/ILSVRC2012_val_00009873.JPEG'), PosixPath('/home/ubuntu/learnai/dl/data/imagenette-160/val/n03888257/ILSVRC2012_val_00015787.JPEG'), PosixPath('/home/ubuntu/learnai/dl/data/imagenette-160/val/n03888257/ILSVRC2012_val_00022638.JPEG'), PosixPath('/home/ubuntu/learnai/dl/data/imagenette-160/val/n03888257/ILSVRC2012_val_00002665.JPEG'), PosixPath('/home/ubuntu/learnai/dl/data/imagenette-160/val/n03888257/ILSVRC2012_val_00044850.JPEG'), PosixPath('/home/ubuntu/learnai/dl/data/imagenette-160/val/n03888257/ILSVRC2012_val_00009559.JPEG'), PosixPath('/home/ubuntu/learnai/dl/data/imagenette-160/val/n03888257/ILSVRC2012_val_00009269.JPEG'), PosixPath('/home/ubuntu/learnai/dl/data/imagenette-160/val/n03888257/ILSVRC2012_val_00039045.JPEG'), PosixPath('/home/ubuntu/learnai/dl/data/imagenette-160/val/n03888257/ILSVRC2012_val_00006561.JPEG'), PosixPath('/home/ubuntu/learnai/dl/data/imagenette-160/val/n03888257/ILSVRC2012_val_00031268.JPEG')...]\n",
       "Path: /home/ubuntu/learnai/dl/data/imagenette-160"
      ]
     },
     "execution_count": 39,
     "metadata": {},
     "output_type": "execute_result"
    }
   ],
   "source": [
    "sd = SplitData.split_by_func(il, splitter); sd"
   ]
  },
  {
   "cell_type": "markdown",
   "metadata": {},
   "source": [
    "## Labeling"
   ]
  },
  {
   "cell_type": "code",
   "execution_count": 40,
   "metadata": {},
   "outputs": [],
   "source": [
    "#export\n",
    "from collections import OrderedDict\n",
    "\n",
    "def uniqueify(x, sort=False):\n",
    "    res = list(OrderedDict.fromkeys(x).keys())\n",
    "    if sort:\n",
    "        res.sort()\n",
    "    return res"
   ]
  },
  {
   "cell_type": "code",
   "execution_count": 41,
   "metadata": {},
   "outputs": [],
   "source": [
    "#export\n",
    "class Processor():\n",
    "    def process(self, items):\n",
    "        return items\n",
    "    \n",
    "class CategoryProcessor(Processor):\n",
    "    def __init__(self):\n",
    "        self.vocab = None\n",
    "        \n",
    "    def process(self, items):\n",
    "        if self.vocab is None:\n",
    "            self.vocab = uniqueify(items)\n",
    "            self.otoi = {v:k for k,v in enumerate(self.vocab)}\n",
    "        return [self.proc1(o) for o in items]\n",
    "    \n",
    "    def proc1(self, item):\n",
    "        return self.otoi[item]\n",
    "    \n",
    "    def deprocess(self, idxs):\n",
    "        assert self.vocab is not None\n",
    "        return [self.deproc1(idx) for idx in idxs]\n",
    "    \n",
    "    def deproc1(self, idx):\n",
    "        return self.vocab[idx]\n",
    "    \n",
    "class ProcessedItemList(ListContainer):\n",
    "    def __init__(self, inputs, processor):\n",
    "        self.processor = processor\n",
    "        items = processor.process(inputs)\n",
    "        super().__init__(items)\n",
    "        \n",
    "    def obj(self, idx):\n",
    "        res = self[idx]\n",
    "        if isinstance(res, (tuple, list, Generator)):\n",
    "            return self.processor.deprocess(res)\n",
    "        return self.processor.deproc1(idx)"
   ]
  },
  {
   "cell_type": "code",
   "execution_count": 42,
   "metadata": {},
   "outputs": [],
   "source": [
    "#export\n",
    "def parent_labeler(fn):\n",
    "    return fn.parent.name\n",
    "\n",
    "def _label_by_func(ds, f):\n",
    "    return [f(o) for o in ds.items]\n",
    "\n",
    "class LabeledData():\n",
    "    def __init__(self, x, y):\n",
    "        self.x, self.y = x, y\n",
    "        \n",
    "    def __repr__(self):\n",
    "        return f'{self.__class__.__name__}\\nx: {self.x}\\ny: {self.y}\\n'\n",
    "    \n",
    "    def __getitem__(self, idx):\n",
    "        return self.x[idx], self.y[idx]\n",
    "    \n",
    "    def __len__(self):\n",
    "        return len(self.x)\n",
    "    \n",
    "    @classmethod\n",
    "    def label_by_func(cls, il, f, proc=None):\n",
    "        labels = _label_by_func(il, f)\n",
    "        proc_labels = ProcessedItemList(labels, proc)\n",
    "        return cls(il, proc_labels)\n",
    "    \n",
    "def label_by_func(sd, f):\n",
    "    proc = CategoryProcessor()\n",
    "    train = LabeledData.label_by_func(sd.train, f, proc)\n",
    "    valid = LabeledData.label_by_func(sd.valid, f, proc)\n",
    "    return SplitData(train, valid)"
   ]
  },
  {
   "cell_type": "code",
   "execution_count": 43,
   "metadata": {},
   "outputs": [],
   "source": [
    "ll = label_by_func(sd, parent_labeler)"
   ]
  },
  {
   "cell_type": "code",
   "execution_count": 44,
   "metadata": {},
   "outputs": [],
   "source": [
    "assert ll.train.y.processor is ll.valid.y.processor"
   ]
  },
  {
   "cell_type": "code",
   "execution_count": 45,
   "metadata": {},
   "outputs": [
    {
     "data": {
      "text/plain": [
       "(0, 'n03888257', ['n03888257', 'n03888257'])"
      ]
     },
     "execution_count": 45,
     "metadata": {},
     "output_type": "execute_result"
    }
   ],
   "source": [
    "ll.train.y.items[0], ll.train.y.obj(0), ll.train.y.obj(slice(2))"
   ]
  },
  {
   "cell_type": "code",
   "execution_count": 46,
   "metadata": {},
   "outputs": [
    {
     "data": {
      "text/plain": [
       "SplitData\n",
       "Train: LabeledData\n",
       "x: ImageList(12894 items)\n",
       "[PosixPath('/home/ubuntu/learnai/dl/data/imagenette-160/train/n03888257/n03888257_14974.JPEG'), PosixPath('/home/ubuntu/learnai/dl/data/imagenette-160/train/n03888257/n03888257_6369.JPEG'), PosixPath('/home/ubuntu/learnai/dl/data/imagenette-160/train/n03888257/n03888257_21399.JPEG'), PosixPath('/home/ubuntu/learnai/dl/data/imagenette-160/train/n03888257/n03888257_34374.JPEG'), PosixPath('/home/ubuntu/learnai/dl/data/imagenette-160/train/n03888257/n03888257_10564.JPEG'), PosixPath('/home/ubuntu/learnai/dl/data/imagenette-160/train/n03888257/n03888257_36971.JPEG'), PosixPath('/home/ubuntu/learnai/dl/data/imagenette-160/train/n03888257/n03888257_10844.JPEG'), PosixPath('/home/ubuntu/learnai/dl/data/imagenette-160/train/n03888257/n03888257_50367.JPEG'), PosixPath('/home/ubuntu/learnai/dl/data/imagenette-160/train/n03888257/n03888257_65206.JPEG'), PosixPath('/home/ubuntu/learnai/dl/data/imagenette-160/train/n03888257/n03888257_46572.JPEG')...]\n",
       "Path: /home/ubuntu/learnai/dl/data/imagenette-160\n",
       "y: ProcessedItemList(12894 items)\n",
       "[0, 0, 0, 0, 0, 0, 0, 0, 0, 0...]\n",
       "\n",
       "Valid: LabeledData\n",
       "x: ImageList(500 items)\n",
       "[PosixPath('/home/ubuntu/learnai/dl/data/imagenette-160/val/n03888257/ILSVRC2012_val_00009873.JPEG'), PosixPath('/home/ubuntu/learnai/dl/data/imagenette-160/val/n03888257/ILSVRC2012_val_00015787.JPEG'), PosixPath('/home/ubuntu/learnai/dl/data/imagenette-160/val/n03888257/ILSVRC2012_val_00022638.JPEG'), PosixPath('/home/ubuntu/learnai/dl/data/imagenette-160/val/n03888257/ILSVRC2012_val_00002665.JPEG'), PosixPath('/home/ubuntu/learnai/dl/data/imagenette-160/val/n03888257/ILSVRC2012_val_00044850.JPEG'), PosixPath('/home/ubuntu/learnai/dl/data/imagenette-160/val/n03888257/ILSVRC2012_val_00009559.JPEG'), PosixPath('/home/ubuntu/learnai/dl/data/imagenette-160/val/n03888257/ILSVRC2012_val_00009269.JPEG'), PosixPath('/home/ubuntu/learnai/dl/data/imagenette-160/val/n03888257/ILSVRC2012_val_00039045.JPEG'), PosixPath('/home/ubuntu/learnai/dl/data/imagenette-160/val/n03888257/ILSVRC2012_val_00006561.JPEG'), PosixPath('/home/ubuntu/learnai/dl/data/imagenette-160/val/n03888257/ILSVRC2012_val_00031268.JPEG')...]\n",
       "Path: /home/ubuntu/learnai/dl/data/imagenette-160\n",
       "y: ProcessedItemList(500 items)\n",
       "[0, 0, 0, 0, 0, 0, 0, 0, 0, 0...]\n"
      ]
     },
     "execution_count": 46,
     "metadata": {},
     "output_type": "execute_result"
    }
   ],
   "source": [
    "ll"
   ]
  },
  {
   "cell_type": "markdown",
   "metadata": {},
   "source": [
    "### Transform to tensor"
   ]
  },
  {
   "cell_type": "code",
   "execution_count": 47,
   "metadata": {},
   "outputs": [
    {
     "data": {
      "text/plain": [
       "(<PIL.Image.Image image mode=RGB size=160x240 at 0x7F1A5C4D1F10>, 0)"
      ]
     },
     "execution_count": 47,
     "metadata": {},
     "output_type": "execute_result"
    }
   ],
   "source": [
    "ll.train[0]"
   ]
  },
  {
   "cell_type": "code",
   "execution_count": 48,
   "metadata": {},
   "outputs": [
    {
     "data": {
      "image/png": "[encoded data removed]",
      "text/plain": [
       "<PIL.Image.Image image mode=RGB size=160x240 at 0x7F1A5BCE3B10>"
      ]
     },
     "execution_count": 48,
     "metadata": {},
     "output_type": "execute_result"
    }
   ],
   "source": [
    "ll.train[0][0] #labeledlist"
   ]
  },
  {
   "cell_type": "code",
   "execution_count": 49,
   "metadata": {},
   "outputs": [
    {
     "data": {
      "image/png": "[encoded data removed]",
      "text/plain": [
       "<PIL.Image.Image image mode=RGB size=128x128 at 0x7F1A5BCE2E50>"
      ]
     },
     "execution_count": 49,
     "metadata": {},
     "output_type": "execute_result"
    }
   ],
   "source": [
    "ll.train[0][0].resize((128,128))"
   ]
  },
  {
   "cell_type": "code",
   "execution_count": 50,
   "metadata": {},
   "outputs": [],
   "source": [
    "#export\n",
    "class ResizeFixed(Transform):\n",
    "    _order = 10\n",
    "    def __init__(self, size):\n",
    "        if isinstance(size, int):\n",
    "            size = (size, size)\n",
    "        self.size = size\n",
    "        \n",
    "    def __call__(self, item):\n",
    "        return item.resize(self.size, PIL.Image.BILINEAR)\n",
    "    \n",
    "def to_byte_tensor(item):\n",
    "    res = torch.ByteTensor(torch.ByteStorage.from_buffer(item.tobytes()))\n",
    "    w,h = item.size\n",
    "    return res.view(h,w,-1).permute(2,0,1)\n",
    "to_byte_tensor._order=20\n",
    "\n",
    "def to_float_tensor(item):\n",
    "    return item.float().div_(255.)\n",
    "to_float_tensor._order=30"
   ]
  },
  {
   "cell_type": "code",
   "execution_count": 51,
   "metadata": {},
   "outputs": [],
   "source": [
    "tfms = [make_rgb, ResizeFixed(128), to_byte_tensor, to_float_tensor]\n",
    "\n",
    "il = ImageList.from_files(path, tfms=tfms)\n",
    "sd = SplitData.split_by_func(il, splitter)\n",
    "ll = label_by_func(sd, parent_labeler)"
   ]
  },
  {
   "cell_type": "code",
   "execution_count": 52,
   "metadata": {},
   "outputs": [],
   "source": [
    "#export\n",
    "def show_image(im, figsize=(3,3)):\n",
    "    plt.figure(figsize=figsize)\n",
    "    plt.axis('off')\n",
    "    plt.imshow(im.permute(1,2,0))"
   ]
  },
  {
   "cell_type": "code",
   "execution_count": 53,
   "metadata": {},
   "outputs": [
    {
     "data": {
      "text/plain": [
       "torch.Size([3, 128, 128])"
      ]
     },
     "execution_count": 53,
     "metadata": {},
     "output_type": "execute_result"
    }
   ],
   "source": [
    "x, y = ll.train[0]\n",
    "x.shape"
   ]
  },
  {
   "cell_type": "code",
   "execution_count": 54,
   "metadata": {},
   "outputs": [
    {
     "data": {
      "image/png": "[encoded data removed]",
      "text/plain": [
       "<Figure size 216x216 with 1 Axes>"
      ]
     },
     "metadata": {
      "image/png": {
       "height": 177,
       "width": 177
      },
      "needs_background": "light"
     },
     "output_type": "display_data"
    }
   ],
   "source": [
    "show_image(x)"
   ]
  },
  {
   "cell_type": "code",
   "execution_count": 55,
   "metadata": {},
   "outputs": [
    {
     "data": {
      "text/plain": [
       "torch.Tensor"
      ]
     },
     "execution_count": 55,
     "metadata": {},
     "output_type": "execute_result"
    }
   ],
   "source": [
    "type(x)"
   ]
  },
  {
   "cell_type": "markdown",
   "metadata": {},
   "source": [
    "## Modeling\n",
    "\n",
    "### DataBunch"
   ]
  },
  {
   "cell_type": "code",
   "execution_count": 56,
   "metadata": {},
   "outputs": [],
   "source": [
    "bs = 64"
   ]
  },
  {
   "cell_type": "code",
   "execution_count": 57,
   "metadata": {},
   "outputs": [],
   "source": [
    "train_dl, valid_dl = get_dls(ll.train, ll.valid, bs, num_workers=4)"
   ]
  },
  {
   "cell_type": "code",
   "execution_count": 58,
   "metadata": {},
   "outputs": [],
   "source": [
    "x, y = next(iter(train_dl))"
   ]
  },
  {
   "cell_type": "code",
   "execution_count": 59,
   "metadata": {},
   "outputs": [
    {
     "data": {
      "text/plain": [
       "torch.Size([64, 3, 128, 128])"
      ]
     },
     "execution_count": 59,
     "metadata": {},
     "output_type": "execute_result"
    }
   ],
   "source": [
    "x.shape"
   ]
  },
  {
   "cell_type": "code",
   "execution_count": 60,
   "metadata": {},
   "outputs": [
    {
     "data": {
      "text/plain": [
       "'n02979186'"
      ]
     },
     "execution_count": 60,
     "metadata": {},
     "output_type": "execute_result"
    },
    {
     "data": {
      "image/png": "[encoded data removed]",
      "text/plain": [
       "<Figure size 216x216 with 1 Axes>"
      ]
     },
     "metadata": {
      "image/png": {
       "height": 177,
       "width": 177
      },
      "needs_background": "light"
     },
     "output_type": "display_data"
    }
   ],
   "source": [
    "show_image(x[0])\n",
    "ll.train.y.processor.vocab[y[0]]"
   ]
  },
  {
   "cell_type": "code",
   "execution_count": 61,
   "metadata": {},
   "outputs": [
    {
     "data": {
      "text/plain": [
       "tensor([8, 1, 6, 8, 6, 4, 7, 0, 1, 7, 8, 7, 4, 6, 6, 5, 3, 9, 7, 6, 0, 8, 6, 6,\n",
       "        7, 9, 3, 7, 5, 4, 2, 9, 2, 0, 7, 1, 2, 3, 8, 6, 2, 8, 2, 5, 3, 9, 7, 8,\n",
       "        9, 7, 7, 7, 3, 1, 7, 1, 7, 8, 8, 7, 5, 6, 0, 4])"
      ]
     },
     "execution_count": 61,
     "metadata": {},
     "output_type": "execute_result"
    }
   ],
   "source": [
    "y"
   ]
  },
  {
   "cell_type": "code",
   "execution_count": 62,
   "metadata": {},
   "outputs": [],
   "source": [
    "#export\n",
    "class DataBunch():\n",
    "    def __init__(self, train_dl, valid_dl, c_in=None, c_out=None):\n",
    "        self.train_dl, self.valid_dl, self.c_in, self.c_out = \\\n",
    "        train_dl, valid_dl, c_in, c_out\n",
    "        \n",
    "    @property\n",
    "    def train_ds(self):\n",
    "        return self.train_dl.dataset\n",
    "    \n",
    "    @property\n",
    "    def valid_ds(self):\n",
    "        return self.valid_dl.dataset"
   ]
  },
  {
   "cell_type": "code",
   "execution_count": 63,
   "metadata": {},
   "outputs": [],
   "source": [
    "#export\n",
    "def databunchify(sd, bs, c_in=None, c_out=None, **kwargs):\n",
    "    dls = get_dls(sd.train, sd.valid, bs, **kwargs)\n",
    "    return DataBunch(*dls, c_in=c_in, c_out=c_out)\n",
    "\n",
    "SplitData.to_databunch = databunchify"
   ]
  },
  {
   "cell_type": "code",
   "execution_count": 64,
   "metadata": {},
   "outputs": [],
   "source": [
    "path = untar_data(imagenette_160)\n",
    "tfms = [make_rgb, ResizeFixed(128), to_byte_tensor, to_float_tensor]\n",
    "\n",
    "il = ImageList.from_files(path, tfms=tfms)\n",
    "sd = SplitData.split_by_func(il, partial(grandparent_splitter, valid_name='val'))\n",
    "ll = label_by_func(sd, parent_labeler)\n",
    "data = ll.to_databunch(bs, c_in=3, c_out=10, num_workers=4)"
   ]
  },
  {
   "cell_type": "markdown",
   "metadata": {},
   "source": [
    "## Model"
   ]
  },
  {
   "cell_type": "code",
   "execution_count": 65,
   "metadata": {},
   "outputs": [],
   "source": [
    "cbfs = [partial(AvgStatsCallback, accuracy), CudaCallback]"
   ]
  },
  {
   "cell_type": "code",
   "execution_count": 66,
   "metadata": {},
   "outputs": [
    {
     "data": {
      "text/plain": [
       "(tensor([0.4542, 0.4489, 0.4147], device='cuda:0'),\n",
       " tensor([0.2663, 0.2648, 0.2803], device='cuda:0'))"
      ]
     },
     "execution_count": 66,
     "metadata": {},
     "output_type": "execute_result"
    }
   ],
   "source": [
    "m, s = x.mean((0,2,3)).cuda(), x.std((0,2,3)).cuda()\n",
    "m, s"
   ]
  },
  {
   "cell_type": "code",
   "execution_count": 67,
   "metadata": {},
   "outputs": [],
   "source": [
    "#export\n",
    "def normalize_chan(x, mean, std):\n",
    "    return (x-mean[..., None, None]) / std[..., None, None]\n",
    "\n",
    "_m = tensor([0.45, 0.46, 0.42])\n",
    "_s = tensor([0.27, 0.26, 0.29])\n",
    "norm_imagenette = partial(normalize_chan, mean = _m.cuda(), std = _s.cuda())"
   ]
  },
  {
   "cell_type": "code",
   "execution_count": 68,
   "metadata": {},
   "outputs": [],
   "source": [
    "cbfs.append(partial(BatchTransformXCallback, norm_imagenette))"
   ]
  },
  {
   "cell_type": "code",
   "execution_count": 69,
   "metadata": {},
   "outputs": [],
   "source": [
    "nfs = [64, 64, 128, 256]"
   ]
  },
  {
   "cell_type": "code",
   "execution_count": 70,
   "metadata": {},
   "outputs": [],
   "source": [
    "#export\n",
    "import math\n",
    "def prev_pow_2(x):\n",
    "    return 2**math.floor(math.log2(x))\n",
    "\n",
    "def get_cnn_layers(data, nfs, layer, **kwargs):\n",
    "    def f(ni, nf, stride=2):\n",
    "        return layer(ni, nf, 3, stride=stride, **kwargs)\n",
    "    \n",
    "    l1 = data.c_in\n",
    "    l2 = prev_pow_2(l1*3*3)\n",
    "    layers = [f(l1, l2, stride=1),\n",
    "             f(l2, l2*2, stride=2),\n",
    "             f(l2*2, l2*4, stride=2)]\n",
    "    nfs = [l2*4] + nfs\n",
    "    layers += [f(nfs[i], nfs[i+1]) for i in range(len(nfs)-1)]\n",
    "    layers += [nn.AdaptiveAvgPool2d(1), Lambda(flatten),\n",
    "              nn.Linear(nfs[-1], data.c_out)]\n",
    "    return layers\n",
    "\n",
    "def get_cnn_model(data, nfs, layer, **kwargs):\n",
    "    return nn.Sequential(*get_cnn_layers(data, nfs, layer, **kwargs))\n",
    "\n",
    "def get_learn_run(nfs, data, lr, layer, cbs=None, opt_func=None, **kwargs):\n",
    "    model = get_cnn_model(data, nfs, layer, **kwargs)\n",
    "    init_cnn(model)\n",
    "    return get_runner(model, data, lr=lr, cbs=cbs, opt_func=opt_func)\n",
    "\n",
    "def cos_1cycle_anneal(start, high, end):\n",
    "    return [sched_cos(start, high), sched_cos(high, end)]"
   ]
  },
  {
   "cell_type": "code",
   "execution_count": 71,
   "metadata": {},
   "outputs": [],
   "source": [
    "sched = combine_scheds([0.3, 0.7], cos_1cycle_anneal(0.1, 0.3, 0.05))"
   ]
  },
  {
   "cell_type": "code",
   "execution_count": 72,
   "metadata": {},
   "outputs": [],
   "source": [
    "learn, run = get_learn_run(nfs, data, 0.2, conv_layer, cbs=cbfs+[\n",
    "    partial(ParamScheduler, 'lr', sched)\n",
    "])"
   ]
  },
  {
   "cell_type": "code",
   "execution_count": 73,
   "metadata": {},
   "outputs": [],
   "source": [
    "#export\n",
    "def model_summary(run, learn, find_all=False):\n",
    "    xb, yb = get_batch(data.valid_dl, run)\n",
    "    device = next(learn.model.parameters()).device\n",
    "    xb, yb = xb.to(device), yb.to(device)\n",
    "    if find_all:\n",
    "        mods = find_modules(learn.model, is_lin_layer)\n",
    "    else:\n",
    "        mods = learn.model.children()\n",
    "    f = lambda hook, mod, inp, out: print(f'{mod}\\n{out.shape}\\n')\n",
    "    with Hooks(mods, f) as hooks: learn.model(xb)"
   ]
  },
  {
   "cell_type": "code",
   "execution_count": 74,
   "metadata": {},
   "outputs": [
    {
     "name": "stdout",
     "output_type": "stream",
     "text": [
      "Sequential(\n",
      "  (0): Conv2d(3, 16, kernel_size=(3, 3), stride=(1, 1), padding=(1, 1), bias=False)\n",
      "  (1): GeneralRelu()\n",
      "  (2): BatchNorm2d(16, eps=1e-05, momentum=0.1, affine=True, track_running_stats=True)\n",
      ")\n",
      "torch.Size([128, 16, 128, 128])\n",
      "\n",
      "Sequential(\n",
      "  (0): Conv2d(16, 32, kernel_size=(3, 3), stride=(2, 2), padding=(1, 1), bias=False)\n",
      "  (1): GeneralRelu()\n",
      "  (2): BatchNorm2d(32, eps=1e-05, momentum=0.1, affine=True, track_running_stats=True)\n",
      ")\n",
      "torch.Size([128, 32, 64, 64])\n",
      "\n",
      "Sequential(\n",
      "  (0): Conv2d(32, 64, kernel_size=(3, 3), stride=(2, 2), padding=(1, 1), bias=False)\n",
      "  (1): GeneralRelu()\n",
      "  (2): BatchNorm2d(64, eps=1e-05, momentum=0.1, affine=True, track_running_stats=True)\n",
      ")\n",
      "torch.Size([128, 64, 32, 32])\n",
      "\n",
      "Sequential(\n",
      "  (0): Conv2d(64, 64, kernel_size=(3, 3), stride=(2, 2), padding=(1, 1), bias=False)\n",
      "  (1): GeneralRelu()\n",
      "  (2): BatchNorm2d(64, eps=1e-05, momentum=0.1, affine=True, track_running_stats=True)\n",
      ")\n",
      "torch.Size([128, 64, 16, 16])\n",
      "\n",
      "Sequential(\n",
      "  (0): Conv2d(64, 64, kernel_size=(3, 3), stride=(2, 2), padding=(1, 1), bias=False)\n",
      "  (1): GeneralRelu()\n",
      "  (2): BatchNorm2d(64, eps=1e-05, momentum=0.1, affine=True, track_running_stats=True)\n",
      ")\n",
      "torch.Size([128, 64, 8, 8])\n",
      "\n",
      "Sequential(\n",
      "  (0): Conv2d(64, 128, kernel_size=(3, 3), stride=(2, 2), padding=(1, 1), bias=False)\n",
      "  (1): GeneralRelu()\n",
      "  (2): BatchNorm2d(128, eps=1e-05, momentum=0.1, affine=True, track_running_stats=True)\n",
      ")\n",
      "torch.Size([128, 128, 4, 4])\n",
      "\n",
      "Sequential(\n",
      "  (0): Conv2d(128, 256, kernel_size=(3, 3), stride=(2, 2), padding=(1, 1), bias=False)\n",
      "  (1): GeneralRelu()\n",
      "  (2): BatchNorm2d(256, eps=1e-05, momentum=0.1, affine=True, track_running_stats=True)\n",
      ")\n",
      "torch.Size([128, 256, 2, 2])\n",
      "\n",
      "AdaptiveAvgPool2d(output_size=1)\n",
      "torch.Size([128, 256, 1, 1])\n",
      "\n",
      "Lambda()\n",
      "torch.Size([128, 256])\n",
      "\n",
      "Linear(in_features=256, out_features=10, bias=True)\n",
      "torch.Size([128, 10])\n",
      "\n"
     ]
    }
   ],
   "source": [
    "model_summary(run, learn)"
   ]
  },
  {
   "cell_type": "code",
   "execution_count": 75,
   "metadata": {},
   "outputs": [
    {
     "name": "stdout",
     "output_type": "stream",
     "text": [
      "train: [1.6881910311966806, tensor(0.4230, device='cuda:0')]\n",
      "valid: [2.05338720703125, tensor(0.3840, device='cuda:0')]\n",
      "train: [1.3004328563673027, tensor(0.5747, device='cuda:0')]\n",
      "valid: [1.24042333984375, tensor(0.6020, device='cuda:0')]\n",
      "train: [0.9379806317376299, tensor(0.6924, device='cuda:0')]\n",
      "valid: [1.0656846923828125, tensor(0.6620, device='cuda:0')]\n",
      "train: [0.6355536005118659, tensor(0.7983, device='cuda:0')]\n",
      "valid: [0.8567991943359375, tensor(0.7300, device='cuda:0')]\n",
      "train: [0.37869304824433847, tensor(0.8926, device='cuda:0')]\n",
      "valid: [0.8746356811523438, tensor(0.7320, device='cuda:0')]\n",
      "CPU times: user 42 s, sys: 16.9 s, total: 58.9 s\n",
      "Wall time: 1min 4s\n"
     ]
    }
   ],
   "source": [
    "%time run.fit(5, learn)"
   ]
  },
  {
   "cell_type": "markdown",
   "metadata": {},
   "source": [
    "# Export"
   ]
  },
  {
   "cell_type": "code",
   "execution_count": 76,
   "metadata": {},
   "outputs": [
    {
     "name": "stdout",
     "output_type": "stream",
     "text": [
      "converted 08_data_block.ipynb to nb_08.py\r\n"
     ]
    }
   ],
   "source": [
    "!python notebook2script.py 08_data_block.ipynb"
   ]
  },
  {
   "cell_type": "code",
   "execution_count": null,
   "metadata": {},
   "outputs": [],
   "source": []
  }
 ],
 "metadata": {
  "kernelspec": {
   "display_name": "Environment (conda_learnai_env)",
   "language": "python",
   "name": "conda_learnai_env"
  },
  "language_info": {
   "codemirror_mode": {
    "name": "ipython",
    "version": 3
   },
   "file_extension": ".py",
   "mimetype": "text/x-python",
   "name": "python",
   "nbconvert_exporter": "python",
   "pygments_lexer": "ipython3",
   "version": "3.7.5"
  }
 },
 "nbformat": 4,
 "nbformat_minor": 2
}
